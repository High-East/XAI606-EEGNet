{
 "cells": [
  {
   "cell_type": "markdown",
   "metadata": {},
   "source": [
    "# Import"
   ]
  },
  {
   "cell_type": "code",
   "execution_count": 1,
   "metadata": {},
   "outputs": [],
   "source": [
    "import os\n",
    "\n",
    "from utils.logger import Logger\n",
    "from utils.utils import print_dict"
   ]
  },
  {
   "cell_type": "markdown",
   "metadata": {},
   "source": [
    "# Comparison models"
   ]
  },
  {
   "cell_type": "code",
   "execution_count": 4,
   "metadata": {
    "scrolled": false
   },
   "outputs": [
    {
     "data": {
      "text/html": [
       "<div>\n",
       "<style scoped>\n",
       "    .dataframe tbody tr th:only-of-type {\n",
       "        vertical-align: middle;\n",
       "    }\n",
       "\n",
       "    .dataframe tbody tr th {\n",
       "        vertical-align: top;\n",
       "    }\n",
       "\n",
       "    .dataframe thead th {\n",
       "        text-align: right;\n",
       "    }\n",
       "</style>\n",
       "<table border=\"1\" class=\"dataframe\">\n",
       "  <thead>\n",
       "    <tr style=\"text-align: right;\">\n",
       "      <th>Method</th>\n",
       "      <th>S01</th>\n",
       "      <th>S02</th>\n",
       "      <th>S03</th>\n",
       "      <th>S04</th>\n",
       "      <th>S05</th>\n",
       "      <th>S06</th>\n",
       "      <th>S07</th>\n",
       "      <th>S08</th>\n",
       "      <th>S09</th>\n",
       "      <th>Mean</th>\n",
       "      <th>Sub-dir</th>\n",
       "    </tr>\n",
       "  </thead>\n",
       "  <tbody>\n",
       "    <tr>\n",
       "      <th>EEGNet</th>\n",
       "      <td>72.22</td>\n",
       "      <td>55.56</td>\n",
       "      <td>88.89</td>\n",
       "      <td>54.17</td>\n",
       "      <td>70.83</td>\n",
       "      <td>61.11</td>\n",
       "      <td>87.5</td>\n",
       "      <td>75.0</td>\n",
       "      <td>88.89</td>\n",
       "      <td>72.69</td>\n",
       "      <td>1</td>\n",
       "    </tr>\n",
       "  </tbody>\n",
       "</table>\n",
       "</div>"
      ],
      "text/plain": [
       "Method    S01    S02    S03    S04    S05    S06   S07   S08    S09   Mean  Sub-dir\n",
       "EEGNet  72.22  55.56  88.89  54.17  70.83  61.11  87.5  75.0  88.89  72.69        1"
      ]
     },
     "metadata": {},
     "output_type": "display_data"
    },
    {
     "name": "stdout",
     "output_type": "stream",
     "text": [
      "model: EEGNet\n",
      "metrics: ['loss', 'acc']\n",
      "batch_size: 72\n",
      "epochs: 1000\n",
      "opt: Adam\n",
      "lr: 0.002\n",
      "wd: 0.002\n",
      "scheduler: cosine\n",
      "eta_min: None\n",
      "\n"
     ]
    }
   ],
   "source": [
    "save_dir = \"./result/train\"\n",
    "logger = Logger(save_dir)\n",
    "\n",
    "# Set models\n",
    "models = {1: 'EEGNet'}\n",
    "\n",
    "# Show accuracy table\n",
    "display(logger.make_acc_table(models, phase='val'))\n",
    "\n",
    "# Set args\n",
    "args = [\n",
    "    'model', 'metrics', 'batch_size', 'epochs', 'opt', 'lr', 'wd', 'scheduler', 'eta_min'\n",
    "]\n",
    "\n",
    "# Set sub-directory matching model\n",
    "sub_dir = 1\n",
    "\n",
    "# Show args\n",
    "print_dict(logger.get_options(sub_dir=sub_dir, target_args=args))"
   ]
  },
  {
   "cell_type": "markdown",
   "metadata": {},
   "source": [
    "# Plot"
   ]
  },
  {
   "cell_type": "code",
   "execution_count": 5,
   "metadata": {
    "scrolled": false
   },
   "outputs": [
    {
     "data": {
      "application/vnd.jupyter.widget-view+json": {
       "model_id": "9fe9f11935734bafb7eb79a5059dcaa2",
       "version_major": 2,
       "version_minor": 0
      },
      "text/plain": [
       "interactive(children=(IntSlider(value=1, description='idx', max=9, min=1), Output()), _dom_classes=('widget-in…"
      ]
     },
     "metadata": {},
     "output_type": "display_data"
    },
    {
     "name": "stdout",
     "output_type": "stream",
     "text": [
      "model: EEGNet\n",
      "metrics: ['loss', 'acc']\n",
      "batch_size: 72\n",
      "epochs: 1000\n",
      "opt: Adam\n",
      "lr: 0.002\n",
      "wd: 0.002\n",
      "scheduler: cosine\n",
      "\n"
     ]
    }
   ],
   "source": [
    "save_path = \"./result/train\"\n",
    "sub_dir = 2\n",
    "\n",
    "Logger.plot_slider(os.path.join(save_path, str(sub_dir)), phase=['train', 'val'])\n",
    "\n",
    "# Set args\n",
    "args = ['model',\n",
    "        'metrics',\n",
    "        'batch_size',\n",
    "        'epochs',\n",
    "        'opt',\n",
    "        'lr',\n",
    "        'wd',\n",
    "        'scheduler'\n",
    "        ]\n",
    "\n",
    "# Show args\n",
    "print_dict(logger.get_options(sub_dir=sub_dir, target_args=args))"
   ]
  }
 ],
 "metadata": {
  "kernelspec": {
   "display_name": "ko",
   "language": "python",
   "name": "ko"
  },
  "language_info": {
   "codemirror_mode": {
    "name": "ipython",
    "version": 3
   },
   "file_extension": ".py",
   "mimetype": "text/x-python",
   "name": "python",
   "nbconvert_exporter": "python",
   "pygments_lexer": "ipython3",
   "version": "3.7.10"
  },
  "toc": {
   "base_numbering": 1,
   "nav_menu": {},
   "number_sections": true,
   "sideBar": true,
   "skip_h1_title": false,
   "title_cell": "Table of Contents",
   "title_sidebar": "Contents",
   "toc_cell": false,
   "toc_position": {
    "height": "calc(100% - 180px)",
    "left": "10px",
    "top": "150px",
    "width": "206.796875px"
   },
   "toc_section_display": true,
   "toc_window_display": true
  }
 },
 "nbformat": 4,
 "nbformat_minor": 4
}